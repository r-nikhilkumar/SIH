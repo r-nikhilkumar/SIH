{
 "cells": [
  {
   "cell_type": "code",
   "execution_count": 1,
   "metadata": {},
   "outputs": [],
   "source": [
    "import numpy as np\n",
    "import pandas as pd\n",
    "import matplotlib.pyplot as plt\n",
    "from sklearn import linear_model, datasets\n",
    "from sklearn.metrics import mean_squared_error, r2_score, confusion_matrix, accuracy_score, precision_score, recall_score\n",
    "from sklearn.model_selection import train_test_split\n",
    "from sklearn.tree import DecisionTreeClassifier\n",
    "from sklearn.ensemble import RandomForestClassifier"
   ]
  },
  {
   "cell_type": "code",
   "execution_count": 2,
   "metadata": {},
   "outputs": [],
   "source": [
    "data = pd.read_excel(\"Specialist.xlsx\")\n",
    "# data = data"
   ]
  },
  {
   "cell_type": "code",
   "execution_count": 3,
   "metadata": {},
   "outputs": [
    {
     "data": {
      "text/plain": [
       "['itching',\n",
       " 'skin rash',\n",
       " 'nodal skin eruptions',\n",
       " 'dischromic patches',\n",
       " 'continuous sneezing',\n",
       " 'shivering',\n",
       " 'chills',\n",
       " 'watering from eyes',\n",
       " 'stomach pain',\n",
       " 'acidity',\n",
       " 'ulcers on tongue',\n",
       " 'vomiting',\n",
       " 'cough',\n",
       " 'chest pain',\n",
       " 'yellowish skin',\n",
       " 'nausea',\n",
       " 'loss of appetite',\n",
       " 'abdominal pain',\n",
       " 'yellowing of eyes',\n",
       " 'burning micturition',\n",
       " 'spotting urination',\n",
       " 'passage of gases',\n",
       " 'internal itching',\n",
       " 'indigestion',\n",
       " 'muscle wasting',\n",
       " 'patches in throat',\n",
       " 'high fever',\n",
       " 'extra marital contacts',\n",
       " 'fatigue',\n",
       " 'weight loss',\n",
       " 'restlessness',\n",
       " 'lethargy',\n",
       " 'irregular sugar level',\n",
       " 'blurred and distorted vision',\n",
       " 'obesity',\n",
       " 'excessive hunger',\n",
       " 'increased appetite',\n",
       " 'polyuria',\n",
       " 'sunken eyes',\n",
       " 'dehydration',\n",
       " 'diarrhoea',\n",
       " 'breathlessness',\n",
       " 'family history',\n",
       " 'mucoid sputum',\n",
       " 'headache',\n",
       " 'dizziness',\n",
       " 'loss of balance',\n",
       " 'lack of concentration',\n",
       " 'stiff neck',\n",
       " 'depression',\n",
       " 'irritability',\n",
       " 'visual disturbances',\n",
       " 'back pain',\n",
       " 'weakness in limbs',\n",
       " 'neck pain',\n",
       " 'weakness of one body side',\n",
       " 'altered sensorium',\n",
       " 'dark urine',\n",
       " 'sweating',\n",
       " 'muscle pain',\n",
       " 'mild fever',\n",
       " 'swelled lymph nodes',\n",
       " 'malaise',\n",
       " 'red spots over body',\n",
       " 'joint pain',\n",
       " 'pain behind the eyes',\n",
       " 'constipation',\n",
       " 'toxic look (typhos)',\n",
       " 'belly pain',\n",
       " 'yellow urine',\n",
       " 'receiving blood transfusion',\n",
       " 'receiving unsterile injections',\n",
       " 'coma',\n",
       " 'stomach bleeding',\n",
       " 'acute liver failure',\n",
       " 'swelling of stomach',\n",
       " 'distention of abdomen',\n",
       " 'history of alcohol consumption',\n",
       " 'fluid overload',\n",
       " 'phlegm',\n",
       " 'blood in sputum',\n",
       " 'throat irritation',\n",
       " 'redness of eyes',\n",
       " 'sinus pressure',\n",
       " 'runny nose',\n",
       " 'congestion',\n",
       " 'loss of smell',\n",
       " 'fast heart rate',\n",
       " 'rusty sputum',\n",
       " 'pain during bowel movements',\n",
       " 'pain in anal region',\n",
       " 'bloody stool',\n",
       " 'irritation in anus',\n",
       " 'cramps',\n",
       " 'bruising',\n",
       " 'swollen legs',\n",
       " 'swollen blood vessels',\n",
       " 'prominent veins on calf',\n",
       " 'weight gain',\n",
       " 'cold hands and feets',\n",
       " 'mood swings',\n",
       " 'puffy face and eyes',\n",
       " 'enlarged thyroid',\n",
       " 'brittle nails',\n",
       " 'swollen extremeties',\n",
       " 'abnormal menstruation',\n",
       " 'muscle weakness',\n",
       " 'anxiety',\n",
       " 'slurred speech',\n",
       " 'palpitations',\n",
       " 'drying and tingling lips',\n",
       " 'knee pain',\n",
       " 'hip joint pain',\n",
       " 'swelling joints',\n",
       " 'painful walking',\n",
       " 'movement stiffness',\n",
       " 'spinning movements',\n",
       " 'unsteadiness',\n",
       " 'pus filled pimples',\n",
       " 'blackheads',\n",
       " 'scurring',\n",
       " 'bladder discomfort',\n",
       " 'foul smell ofurine',\n",
       " 'continuous feel of urine',\n",
       " 'skin peeling',\n",
       " 'silver like dusting',\n",
       " 'small dents in nails',\n",
       " 'inflammatory nails',\n",
       " 'blister',\n",
       " 'red sore around nose',\n",
       " 'yellow crust ooze',\n",
       " 'specialist']"
      ]
     },
     "execution_count": 3,
     "metadata": {},
     "output_type": "execute_result"
    }
   ],
   "source": [
    "col = list(data.columns)\n",
    "# for i in col:\n",
    "col\n",
    "    "
   ]
  },
  {
   "cell_type": "code",
   "execution_count": 4,
   "metadata": {},
   "outputs": [],
   "source": [
    "X = data.drop(\"specialist\", axis=1)\n",
    "Y = data[\"specialist\"]\n"
   ]
  },
  {
   "cell_type": "code",
   "execution_count": 5,
   "metadata": {},
   "outputs": [],
   "source": [
    "x_train, x_test, y_train, y_test = train_test_split(X, Y, train_size=0.8)"
   ]
  },
  {
   "cell_type": "code",
   "execution_count": 6,
   "metadata": {},
   "outputs": [],
   "source": [
    "model = RandomForestClassifier(criterion='entropy')"
   ]
  },
  {
   "cell_type": "code",
   "execution_count": 7,
   "metadata": {},
   "outputs": [
    {
     "data": {
      "text/html": [
       "<style>#sk-container-id-1 {color: black;}#sk-container-id-1 pre{padding: 0;}#sk-container-id-1 div.sk-toggleable {background-color: white;}#sk-container-id-1 label.sk-toggleable__label {cursor: pointer;display: block;width: 100%;margin-bottom: 0;padding: 0.3em;box-sizing: border-box;text-align: center;}#sk-container-id-1 label.sk-toggleable__label-arrow:before {content: \"▸\";float: left;margin-right: 0.25em;color: #696969;}#sk-container-id-1 label.sk-toggleable__label-arrow:hover:before {color: black;}#sk-container-id-1 div.sk-estimator:hover label.sk-toggleable__label-arrow:before {color: black;}#sk-container-id-1 div.sk-toggleable__content {max-height: 0;max-width: 0;overflow: hidden;text-align: left;background-color: #f0f8ff;}#sk-container-id-1 div.sk-toggleable__content pre {margin: 0.2em;color: black;border-radius: 0.25em;background-color: #f0f8ff;}#sk-container-id-1 input.sk-toggleable__control:checked~div.sk-toggleable__content {max-height: 200px;max-width: 100%;overflow: auto;}#sk-container-id-1 input.sk-toggleable__control:checked~label.sk-toggleable__label-arrow:before {content: \"▾\";}#sk-container-id-1 div.sk-estimator input.sk-toggleable__control:checked~label.sk-toggleable__label {background-color: #d4ebff;}#sk-container-id-1 div.sk-label input.sk-toggleable__control:checked~label.sk-toggleable__label {background-color: #d4ebff;}#sk-container-id-1 input.sk-hidden--visually {border: 0;clip: rect(1px 1px 1px 1px);clip: rect(1px, 1px, 1px, 1px);height: 1px;margin: -1px;overflow: hidden;padding: 0;position: absolute;width: 1px;}#sk-container-id-1 div.sk-estimator {font-family: monospace;background-color: #f0f8ff;border: 1px dotted black;border-radius: 0.25em;box-sizing: border-box;margin-bottom: 0.5em;}#sk-container-id-1 div.sk-estimator:hover {background-color: #d4ebff;}#sk-container-id-1 div.sk-parallel-item::after {content: \"\";width: 100%;border-bottom: 1px solid gray;flex-grow: 1;}#sk-container-id-1 div.sk-label:hover label.sk-toggleable__label {background-color: #d4ebff;}#sk-container-id-1 div.sk-serial::before {content: \"\";position: absolute;border-left: 1px solid gray;box-sizing: border-box;top: 0;bottom: 0;left: 50%;z-index: 0;}#sk-container-id-1 div.sk-serial {display: flex;flex-direction: column;align-items: center;background-color: white;padding-right: 0.2em;padding-left: 0.2em;position: relative;}#sk-container-id-1 div.sk-item {position: relative;z-index: 1;}#sk-container-id-1 div.sk-parallel {display: flex;align-items: stretch;justify-content: center;background-color: white;position: relative;}#sk-container-id-1 div.sk-item::before, #sk-container-id-1 div.sk-parallel-item::before {content: \"\";position: absolute;border-left: 1px solid gray;box-sizing: border-box;top: 0;bottom: 0;left: 50%;z-index: -1;}#sk-container-id-1 div.sk-parallel-item {display: flex;flex-direction: column;z-index: 1;position: relative;background-color: white;}#sk-container-id-1 div.sk-parallel-item:first-child::after {align-self: flex-end;width: 50%;}#sk-container-id-1 div.sk-parallel-item:last-child::after {align-self: flex-start;width: 50%;}#sk-container-id-1 div.sk-parallel-item:only-child::after {width: 0;}#sk-container-id-1 div.sk-dashed-wrapped {border: 1px dashed gray;margin: 0 0.4em 0.5em 0.4em;box-sizing: border-box;padding-bottom: 0.4em;background-color: white;}#sk-container-id-1 div.sk-label label {font-family: monospace;font-weight: bold;display: inline-block;line-height: 1.2em;}#sk-container-id-1 div.sk-label-container {text-align: center;}#sk-container-id-1 div.sk-container {/* jupyter's `normalize.less` sets `[hidden] { display: none; }` but bootstrap.min.css set `[hidden] { display: none !important; }` so we also need the `!important` here to be able to override the default hidden behavior on the sphinx rendered scikit-learn.org. See: https://github.com/scikit-learn/scikit-learn/issues/21755 */display: inline-block !important;position: relative;}#sk-container-id-1 div.sk-text-repr-fallback {display: none;}</style><div id=\"sk-container-id-1\" class=\"sk-top-container\"><div class=\"sk-text-repr-fallback\"><pre>RandomForestClassifier(criterion=&#x27;entropy&#x27;)</pre><b>In a Jupyter environment, please rerun this cell to show the HTML representation or trust the notebook. <br />On GitHub, the HTML representation is unable to render, please try loading this page with nbviewer.org.</b></div><div class=\"sk-container\" hidden><div class=\"sk-item\"><div class=\"sk-estimator sk-toggleable\"><input class=\"sk-toggleable__control sk-hidden--visually\" id=\"sk-estimator-id-1\" type=\"checkbox\" checked><label for=\"sk-estimator-id-1\" class=\"sk-toggleable__label sk-toggleable__label-arrow\">RandomForestClassifier</label><div class=\"sk-toggleable__content\"><pre>RandomForestClassifier(criterion=&#x27;entropy&#x27;)</pre></div></div></div></div></div>"
      ],
      "text/plain": [
       "RandomForestClassifier(criterion='entropy')"
      ]
     },
     "execution_count": 7,
     "metadata": {},
     "output_type": "execute_result"
    }
   ],
   "source": [
    "model.fit(x_train, y_train)"
   ]
  },
  {
   "cell_type": "code",
   "execution_count": 8,
   "metadata": {},
   "outputs": [
    {
     "ename": "IndexError",
     "evalue": "list assignment index out of range",
     "output_type": "error",
     "traceback": [
      "\u001b[1;31m---------------------------------------------------------------------------\u001b[0m",
      "\u001b[1;31mIndexError\u001b[0m                                Traceback (most recent call last)",
      "\u001b[1;32mc:\\Users\\Nikhil\\Desktop\\SIH\\Nikhil\\3.ipynb Cell 8\u001b[0m line \u001b[0;36m3\n\u001b[0;32m      <a href='vscode-notebook-cell:/c%3A/Users/Nikhil/Desktop/SIH/Nikhil/3.ipynb#X10sZmlsZQ%3D%3D?line=0'>1</a>\u001b[0m arr \u001b[39m=\u001b[39m []\n\u001b[0;32m      <a href='vscode-notebook-cell:/c%3A/Users/Nikhil/Desktop/SIH/Nikhil/3.ipynb#X10sZmlsZQ%3D%3D?line=1'>2</a>\u001b[0m \u001b[39mfor\u001b[39;00m i \u001b[39min\u001b[39;00m \u001b[39mrange\u001b[39m(\u001b[39m10\u001b[39m):\n\u001b[1;32m----> <a href='vscode-notebook-cell:/c%3A/Users/Nikhil/Desktop/SIH/Nikhil/3.ipynb#X10sZmlsZQ%3D%3D?line=2'>3</a>\u001b[0m     arr[i] \u001b[39m=\u001b[39m \u001b[39minput\u001b[39m()\n\u001b[0;32m      <a href='vscode-notebook-cell:/c%3A/Users/Nikhil/Desktop/SIH/Nikhil/3.ipynb#X10sZmlsZQ%3D%3D?line=3'>4</a>\u001b[0m arr\n",
      "\u001b[1;31mIndexError\u001b[0m: list assignment index out of range"
     ]
    }
   ],
   "source": [
    "arr = []\n",
    "for i in range(10):\n",
    "    arr[i] = input()\n",
    "arr"
   ]
  },
  {
   "cell_type": "code",
   "execution_count": null,
   "metadata": {},
   "outputs": [],
   "source": [
    "# y_predict = model.predict(x_test)"
   ]
  },
  {
   "cell_type": "code",
   "execution_count": null,
   "metadata": {},
   "outputs": [
    {
     "data": {
      "text/plain": [
       "1.0"
      ]
     },
     "execution_count": 12,
     "metadata": {},
     "output_type": "execute_result"
    }
   ],
   "source": [
    "accuracy_score(y_test, y_predict)"
   ]
  },
  {
   "cell_type": "code",
   "execution_count": null,
   "metadata": {},
   "outputs": [],
   "source": []
  }
 ],
 "metadata": {
  "kernelspec": {
   "display_name": "Python 3",
   "language": "python",
   "name": "python3"
  },
  "language_info": {
   "codemirror_mode": {
    "name": "ipython",
    "version": 3
   },
   "file_extension": ".py",
   "mimetype": "text/x-python",
   "name": "python",
   "nbconvert_exporter": "python",
   "pygments_lexer": "ipython3",
   "version": "3.10.7"
  },
  "orig_nbformat": 4
 },
 "nbformat": 4,
 "nbformat_minor": 2
}
