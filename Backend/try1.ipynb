{
 "cells": [
  {
   "cell_type": "code",
   "execution_count": 1,
   "metadata": {},
   "outputs": [],
   "source": [
    "import numpy as np\n",
    "import pandas as pd\n",
    "import matplotlib.pyplot as plt\n",
    "from sklearn import linear_model, datasets\n",
    "from sklearn.metrics import mean_squared_error, r2_score, confusion_matrix, accuracy_score, precision_score, recall_score\n",
    "from sklearn.model_selection import train_test_split\n",
    "from sklearn.tree import DecisionTreeClassifier\n",
    "from sklearn.ensemble import RandomForestClassifier"
   ]
  },
  {
   "cell_type": "code",
   "execution_count": null,
   "metadata": {},
   "outputs": [],
   "source": [
    "data = pd.read_csv(\"dataset.csv\")\n",
    "data.head(20)"
   ]
  },
  {
   "cell_type": "code",
   "execution_count": null,
   "metadata": {},
   "outputs": [],
   "source": [
    "new_data = pd.read_csv(\"disease.csv\")\n",
    "new_data.head(10)"
   ]
  },
  {
   "cell_type": "code",
   "execution_count": null,
   "metadata": {},
   "outputs": [],
   "source": [
    "print(data.isnull().sum())"
   ]
  },
  {
   "cell_type": "code",
   "execution_count": null,
   "metadata": {},
   "outputs": [],
   "source": [
    "ar = [\"Symptom_1\",\"Symptom_2\",\"Symptom_3\",\"Symptom_4\",\"Symptom_5\",\"Symptom_6\",\"Symptom_7\",\"Symptom_8\",\"Symptom_9\",\"Symptom_10\",\"Symptom_11\",\"Symptom_12\",\"Symptom_13\",\"Symptom_14\",\"Symptom_15\",\"Symptom_16\",\"Symptom_17\"]\n",
    "\n",
    "\n",
    "y = []\n",
    "\n",
    "\n",
    "for i in ar:\n",
    "    dic = {}\n",
    "    n = 1\n",
    "    data[i].fillna(0, inplace=True)\n",
    "    for k in data[i].unique():\n",
    "        if(k==0):\n",
    "            dic[k] = 0\n",
    "        else:    \n",
    "            dic[k] = n\n",
    "            n+=1\n",
    "    print(dic)\n",
    "    k = eval(input())\n",
    "    y.append(k)\n",
    "print(y)"
   ]
  },
  {
   "cell_type": "code",
   "execution_count": null,
   "metadata": {},
   "outputs": [],
   "source": [
    "y = [y]\n",
    "k = 0\n",
    "s1 = data[ar[3]].unique()\n",
    "for m in ar:\n",
    "    j=1\n",
    "    s = data[ar[k]].unique()\n",
    "    d = {}\n",
    "    data[ar[k]].fillna(\"0\",inplace = True)\n",
    "    for i in s:\n",
    "        if(i==\"NaN\"):\n",
    "            d[i]=0\n",
    "            continue\n",
    "        d[i] = j\n",
    "        j+=1\n",
    "    dic = {ar[k]:d}\n",
    "    k+=1\n",
    "    dic\n",
    "    data.replace(dic, inplace=True)\n"
   ]
  },
  {
   "cell_type": "code",
   "execution_count": null,
   "metadata": {},
   "outputs": [],
   "source": [
    "X = data.drop(\"Disease\", axis=1)\n",
    "\n",
    "Y = data[\"Disease\"]\n",
    "\n",
    "x_train, x_test, y_train, y_test = train_test_split(X, Y, train_size=0.8)\n",
    "\n",
    "model = RandomForestClassifier(criterion=\"entropy\")\n",
    "\n",
    "model.fit(x_train, y_train)\n",
    "\n",
    "y_pred = model.predict(y)\n"
   ]
  },
  {
   "cell_type": "code",
   "execution_count": null,
   "metadata": {},
   "outputs": [],
   "source": [
    "# accuracy_score(y_test, y_pred)\n",
    "print(y_pred)"
   ]
  }
 ],
 "metadata": {
  "kernelspec": {
   "display_name": "Python 3",
   "language": "python",
   "name": "python3"
  },
  "language_info": {
   "codemirror_mode": {
    "name": "ipython",
    "version": 3
   },
   "file_extension": ".py",
   "mimetype": "text/x-python",
   "name": "python",
   "nbconvert_exporter": "python",
   "pygments_lexer": "ipython3",
   "version": "3.10.7"
  },
  "orig_nbformat": 4
 },
 "nbformat": 4,
 "nbformat_minor": 2
}
